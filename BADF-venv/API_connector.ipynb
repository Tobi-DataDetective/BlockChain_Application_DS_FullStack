{
 "cells": [
  {
   "cell_type": "code",
   "execution_count": 1,
   "id": "f9b531e9",
   "metadata": {},
   "outputs": [
    {
     "name": "stdout",
     "output_type": "stream",
     "text": [
      "Requirement already satisfied: requests in c:\\users\\tobi\\desktop\\new folder\\git\\blockchain_application_ds_fullstack\\badf-venv\\lib\\site-packages (2.31.0)\n",
      "Requirement already satisfied: idna<4,>=2.5 in c:\\users\\tobi\\desktop\\new folder\\git\\blockchain_application_ds_fullstack\\badf-venv\\lib\\site-packages (from requests) (3.4)\n",
      "Requirement already satisfied: charset-normalizer<4,>=2 in c:\\users\\tobi\\desktop\\new folder\\git\\blockchain_application_ds_fullstack\\badf-venv\\lib\\site-packages (from requests) (3.1.0)\n",
      "Requirement already satisfied: certifi>=2017.4.17 in c:\\users\\tobi\\desktop\\new folder\\git\\blockchain_application_ds_fullstack\\badf-venv\\lib\\site-packages (from requests) (2023.5.7)\n",
      "Requirement already satisfied: urllib3<3,>=1.21.1 in c:\\users\\tobi\\desktop\\new folder\\git\\blockchain_application_ds_fullstack\\badf-venv\\lib\\site-packages (from requests) (2.0.3)\n"
     ]
    },
    {
     "name": "stderr",
     "output_type": "stream",
     "text": [
      "WARNING: You are using pip version 20.1.1; however, version 23.1.2 is available.\n",
      "You should consider upgrading via the 'c:\\users\\tobi\\desktop\\new folder\\git\\blockchain_application_ds_fullstack\\badf-venv\\scripts\\python.exe -m pip install --upgrade pip' command.\n"
     ]
    },
    {
     "name": "stdout",
     "output_type": "stream",
     "text": [
      "Requirement already satisfied: pandas in c:\\users\\tobi\\desktop\\new folder\\git\\blockchain_application_ds_fullstack\\badf-venv\\lib\\site-packages (2.0.2)\n",
      "Requirement already satisfied: python-dateutil>=2.8.2 in c:\\users\\tobi\\desktop\\new folder\\git\\blockchain_application_ds_fullstack\\badf-venv\\lib\\site-packages (from pandas) (2.8.2)\n",
      "Requirement already satisfied: pytz>=2020.1 in c:\\users\\tobi\\desktop\\new folder\\git\\blockchain_application_ds_fullstack\\badf-venv\\lib\\site-packages (from pandas) (2023.3)\n",
      "Requirement already satisfied: tzdata>=2022.1 in c:\\users\\tobi\\desktop\\new folder\\git\\blockchain_application_ds_fullstack\\badf-venv\\lib\\site-packages (from pandas) (2023.3)\n",
      "Requirement already satisfied: numpy>=1.20.3; python_version < \"3.10\" in c:\\users\\tobi\\desktop\\new folder\\git\\blockchain_application_ds_fullstack\\badf-venv\\lib\\site-packages (from pandas) (1.25.0)\n",
      "Requirement already satisfied: six>=1.5 in c:\\users\\tobi\\desktop\\new folder\\git\\blockchain_application_ds_fullstack\\badf-venv\\lib\\site-packages (from python-dateutil>=2.8.2->pandas) (1.16.0)\n"
     ]
    },
    {
     "name": "stderr",
     "output_type": "stream",
     "text": [
      "WARNING: You are using pip version 20.1.1; however, version 23.1.2 is available.\n",
      "You should consider upgrading via the 'c:\\users\\tobi\\desktop\\new folder\\git\\blockchain_application_ds_fullstack\\badf-venv\\scripts\\python.exe -m pip install --upgrade pip' command.\n"
     ]
    },
    {
     "name": "stdout",
     "output_type": "stream",
     "text": [
      "Requirement already satisfied: pandas in c:\\users\\tobi\\desktop\\new folder\\git\\blockchain_application_ds_fullstack\\badf-venv\\lib\\site-packages (2.0.2)\n",
      "Requirement already satisfied: pytz>=2020.1 in c:\\users\\tobi\\desktop\\new folder\\git\\blockchain_application_ds_fullstack\\badf-venv\\lib\\site-packages (from pandas) (2023.3)\n",
      "Requirement already satisfied: numpy>=1.20.3; python_version < \"3.10\" in c:\\users\\tobi\\desktop\\new folder\\git\\blockchain_application_ds_fullstack\\badf-venv\\lib\\site-packages (from pandas) (1.25.0)\n",
      "Requirement already satisfied: tzdata>=2022.1 in c:\\users\\tobi\\desktop\\new folder\\git\\blockchain_application_ds_fullstack\\badf-venv\\lib\\site-packages (from pandas) (2023.3)\n",
      "Requirement already satisfied: python-dateutil>=2.8.2 in c:\\users\\tobi\\desktop\\new folder\\git\\blockchain_application_ds_fullstack\\badf-venv\\lib\\site-packages (from pandas) (2.8.2)\n",
      "Requirement already satisfied: six>=1.5 in c:\\users\\tobi\\desktop\\new folder\\git\\blockchain_application_ds_fullstack\\badf-venv\\lib\\site-packages (from python-dateutil>=2.8.2->pandas) (1.16.0)\n"
     ]
    },
    {
     "name": "stderr",
     "output_type": "stream",
     "text": [
      "WARNING: You are using pip version 20.1.1; however, version 23.1.2 is available.\n",
      "You should consider upgrading via the 'c:\\users\\tobi\\desktop\\new folder\\git\\blockchain_application_ds_fullstack\\badf-venv\\scripts\\python.exe -m pip install --upgrade pip' command.\n"
     ]
    },
    {
     "name": "stdout",
     "output_type": "stream",
     "text": [
      "Requirement already satisfied: jupyter in c:\\users\\tobi\\desktop\\new folder\\git\\blockchain_application_ds_fullstack\\badf-venv\\lib\\site-packages (1.0.0)\n",
      "Requirement already satisfied: notebook in c:\\users\\tobi\\desktop\\new folder\\git\\blockchain_application_ds_fullstack\\badf-venv\\lib\\site-packages (6.5.4)\n",
      "Requirement already satisfied: ipykernel in c:\\users\\tobi\\desktop\\new folder\\git\\blockchain_application_ds_fullstack\\badf-venv\\lib\\site-packages (from jupyter) (6.23.2)\n",
      "Requirement already satisfied: ipywidgets in c:\\users\\tobi\\desktop\\new folder\\git\\blockchain_application_ds_fullstack\\badf-venv\\lib\\site-packages (from jupyter) (8.0.6)\n",
      "Requirement already satisfied: qtconsole in c:\\users\\tobi\\desktop\\new folder\\git\\blockchain_application_ds_fullstack\\badf-venv\\lib\\site-packages (from jupyter) (5.4.3)\n",
      "Requirement already satisfied: jupyter-console in c:\\users\\tobi\\desktop\\new folder\\git\\blockchain_application_ds_fullstack\\badf-venv\\lib\\site-packages (from jupyter) (6.6.3)\n",
      "Requirement already satisfied: nbconvert in c:\\users\\tobi\\desktop\\new folder\\git\\blockchain_application_ds_fullstack\\badf-venv\\lib\\site-packages (from jupyter) (7.5.0)\n",
      "Requirement already satisfied: nbformat in c:\\users\\tobi\\desktop\\new folder\\git\\blockchain_application_ds_fullstack\\badf-venv\\lib\\site-packages (from notebook) (5.9.0)\n",
      "Requirement already satisfied: nest-asyncio>=1.5 in c:\\users\\tobi\\desktop\\new folder\\git\\blockchain_application_ds_fullstack\\badf-venv\\lib\\site-packages (from notebook) (1.5.6)\n",
      "Requirement already satisfied: ipython-genutils in c:\\users\\tobi\\desktop\\new folder\\git\\blockchain_application_ds_fullstack\\badf-venv\\lib\\site-packages (from notebook) (0.2.0)\n",
      "Requirement already satisfied: jupyter-core>=4.6.1 in c:\\users\\tobi\\desktop\\new folder\\git\\blockchain_application_ds_fullstack\\badf-venv\\lib\\site-packages (from notebook) (5.3.1)\n",
      "Requirement already satisfied: tornado>=6.1 in c:\\users\\tobi\\desktop\\new folder\\git\\blockchain_application_ds_fullstack\\badf-venv\\lib\\site-packages (from notebook) (6.3.2)\n",
      "Requirement already satisfied: nbclassic>=0.4.7 in c:\\users\\tobi\\desktop\\new folder\\git\\blockchain_application_ds_fullstack\\badf-venv\\lib\\site-packages (from notebook) (1.0.0)\n",
      "Requirement already satisfied: pyzmq>=17 in c:\\users\\tobi\\desktop\\new folder\\git\\blockchain_application_ds_fullstack\\badf-venv\\lib\\site-packages (from notebook) (25.1.0)\n",
      "Requirement already satisfied: Send2Trash>=1.8.0 in c:\\users\\tobi\\desktop\\new folder\\git\\blockchain_application_ds_fullstack\\badf-venv\\lib\\site-packages (from notebook) (1.8.2)\n",
      "Requirement already satisfied: terminado>=0.8.3 in c:\\users\\tobi\\desktop\\new folder\\git\\blockchain_application_ds_fullstack\\badf-venv\\lib\\site-packages (from notebook) (0.17.1)\n",
      "Requirement already satisfied: argon2-cffi in c:\\users\\tobi\\desktop\\new folder\\git\\blockchain_application_ds_fullstack\\badf-venv\\lib\\site-packages (from notebook) (21.3.0)\n",
      "Requirement already satisfied: jinja2 in c:\\users\\tobi\\desktop\\new folder\\git\\blockchain_application_ds_fullstack\\badf-venv\\lib\\site-packages (from notebook) (3.1.2)\n",
      "Requirement already satisfied: prometheus-client in c:\\users\\tobi\\desktop\\new folder\\git\\blockchain_application_ds_fullstack\\badf-venv\\lib\\site-packages (from notebook) (0.17.0)\n",
      "Requirement already satisfied: traitlets>=4.2.1 in c:\\users\\tobi\\desktop\\new folder\\git\\blockchain_application_ds_fullstack\\badf-venv\\lib\\site-packages (from notebook) (5.9.0)\n",
      "Requirement already satisfied: jupyter-client>=5.3.4 in c:\\users\\tobi\\desktop\\new folder\\git\\blockchain_application_ds_fullstack\\badf-venv\\lib\\site-packages (from notebook) (8.2.0)\n",
      "Requirement already satisfied: packaging in c:\\users\\tobi\\desktop\\new folder\\git\\blockchain_application_ds_fullstack\\badf-venv\\lib\\site-packages (from ipykernel->jupyter) (23.1)\n",
      "Requirement already satisfied: comm>=0.1.1 in c:\\users\\tobi\\desktop\\new folder\\git\\blockchain_application_ds_fullstack\\badf-venv\\lib\\site-packages (from ipykernel->jupyter) (0.1.3)\n",
      "Requirement already satisfied: ipython>=7.23.1 in c:\\users\\tobi\\desktop\\new folder\\git\\blockchain_application_ds_fullstack\\badf-venv\\lib\\site-packages (from ipykernel->jupyter) (8.14.0)\n",
      "Requirement already satisfied: debugpy>=1.6.5 in c:\\users\\tobi\\desktop\\new folder\\git\\blockchain_application_ds_fullstack\\badf-venv\\lib\\site-packages (from ipykernel->jupyter) (1.6.7)\n",
      "Requirement already satisfied: matplotlib-inline>=0.1 in c:\\users\\tobi\\desktop\\new folder\\git\\blockchain_application_ds_fullstack\\badf-venv\\lib\\site-packages (from ipykernel->jupyter) (0.1.6)\n",
      "Requirement already satisfied: psutil in c:\\users\\tobi\\desktop\\new folder\\git\\blockchain_application_ds_fullstack\\badf-venv\\lib\\site-packages (from ipykernel->jupyter) (5.9.5)\n",
      "Requirement already satisfied: jupyterlab-widgets~=3.0.7 in c:\\users\\tobi\\desktop\\new folder\\git\\blockchain_application_ds_fullstack\\badf-venv\\lib\\site-packages (from ipywidgets->jupyter) (3.0.7)\n",
      "Requirement already satisfied: widgetsnbextension~=4.0.7 in c:\\users\\tobi\\desktop\\new folder\\git\\blockchain_application_ds_fullstack\\badf-venv\\lib\\site-packages (from ipywidgets->jupyter) (4.0.7)\n",
      "Requirement already satisfied: qtpy>=2.0.1 in c:\\users\\tobi\\desktop\\new folder\\git\\blockchain_application_ds_fullstack\\badf-venv\\lib\\site-packages (from qtconsole->jupyter) (2.3.1)\n",
      "Requirement already satisfied: pygments in c:\\users\\tobi\\desktop\\new folder\\git\\blockchain_application_ds_fullstack\\badf-venv\\lib\\site-packages (from qtconsole->jupyter) (2.15.1)\n",
      "Requirement already satisfied: prompt-toolkit>=3.0.30 in c:\\users\\tobi\\desktop\\new folder\\git\\blockchain_application_ds_fullstack\\badf-venv\\lib\\site-packages (from jupyter-console->jupyter) (3.0.38)\n",
      "Requirement already satisfied: beautifulsoup4 in c:\\users\\tobi\\desktop\\new folder\\git\\blockchain_application_ds_fullstack\\badf-venv\\lib\\site-packages (from nbconvert->jupyter) (4.12.2)\n",
      "Requirement already satisfied: nbclient>=0.5.0 in c:\\users\\tobi\\desktop\\new folder\\git\\blockchain_application_ds_fullstack\\badf-venv\\lib\\site-packages (from nbconvert->jupyter) (0.8.0)\n",
      "Requirement already satisfied: pandocfilters>=1.4.1 in c:\\users\\tobi\\desktop\\new folder\\git\\blockchain_application_ds_fullstack\\badf-venv\\lib\\site-packages (from nbconvert->jupyter) (1.5.0)\n",
      "Requirement already satisfied: tinycss2 in c:\\users\\tobi\\desktop\\new folder\\git\\blockchain_application_ds_fullstack\\badf-venv\\lib\\site-packages (from nbconvert->jupyter) (1.2.1)\n",
      "Requirement already satisfied: markupsafe>=2.0 in c:\\users\\tobi\\desktop\\new folder\\git\\blockchain_application_ds_fullstack\\badf-venv\\lib\\site-packages (from nbconvert->jupyter) (2.1.3)\n",
      "Requirement already satisfied: importlib-metadata>=3.6; python_version < \"3.10\" in c:\\users\\tobi\\desktop\\new folder\\git\\blockchain_application_ds_fullstack\\badf-venv\\lib\\site-packages (from nbconvert->jupyter) (6.6.0)\n",
      "Requirement already satisfied: mistune<3,>=2.0.3 in c:\\users\\tobi\\desktop\\new folder\\git\\blockchain_application_ds_fullstack\\badf-venv\\lib\\site-packages (from nbconvert->jupyter) (2.0.5)\n",
      "Requirement already satisfied: bleach!=5.0.0 in c:\\users\\tobi\\desktop\\new folder\\git\\blockchain_application_ds_fullstack\\badf-venv\\lib\\site-packages (from nbconvert->jupyter) (6.0.0)\n",
      "Requirement already satisfied: jupyterlab-pygments in c:\\users\\tobi\\desktop\\new folder\\git\\blockchain_application_ds_fullstack\\badf-venv\\lib\\site-packages (from nbconvert->jupyter) (0.2.2)\n",
      "Requirement already satisfied: defusedxml in c:\\users\\tobi\\desktop\\new folder\\git\\blockchain_application_ds_fullstack\\badf-venv\\lib\\site-packages (from nbconvert->jupyter) (0.7.1)\n",
      "Requirement already satisfied: fastjsonschema in c:\\users\\tobi\\desktop\\new folder\\git\\blockchain_application_ds_fullstack\\badf-venv\\lib\\site-packages (from nbformat->notebook) (2.17.1)\n",
      "Requirement already satisfied: jsonschema>=2.6 in c:\\users\\tobi\\desktop\\new folder\\git\\blockchain_application_ds_fullstack\\badf-venv\\lib\\site-packages (from nbformat->notebook) (4.17.3)\n",
      "Requirement already satisfied: platformdirs>=2.5 in c:\\users\\tobi\\desktop\\new folder\\git\\blockchain_application_ds_fullstack\\badf-venv\\lib\\site-packages (from jupyter-core>=4.6.1->notebook) (3.6.0)\n",
      "Requirement already satisfied: pywin32>=300; sys_platform == \"win32\" and platform_python_implementation != \"PyPy\" in c:\\users\\tobi\\desktop\\new folder\\git\\blockchain_application_ds_fullstack\\badf-venv\\lib\\site-packages (from jupyter-core>=4.6.1->notebook) (306)\n",
      "Requirement already satisfied: notebook-shim>=0.2.3 in c:\\users\\tobi\\desktop\\new folder\\git\\blockchain_application_ds_fullstack\\badf-venv\\lib\\site-packages (from nbclassic>=0.4.7->notebook) (0.2.3)\n",
      "Requirement already satisfied: jupyter-server>=1.8 in c:\\users\\tobi\\desktop\\new folder\\git\\blockchain_application_ds_fullstack\\badf-venv\\lib\\site-packages (from nbclassic>=0.4.7->notebook) (2.6.0)\n",
      "Requirement already satisfied: pywinpty>=1.1.0; os_name == \"nt\" in c:\\users\\tobi\\desktop\\new folder\\git\\blockchain_application_ds_fullstack\\badf-venv\\lib\\site-packages (from terminado>=0.8.3->notebook) (2.0.10)\n",
      "Requirement already satisfied: argon2-cffi-bindings in c:\\users\\tobi\\desktop\\new folder\\git\\blockchain_application_ds_fullstack\\badf-venv\\lib\\site-packages (from argon2-cffi->notebook) (21.2.0)\n",
      "Requirement already satisfied: python-dateutil>=2.8.2 in c:\\users\\tobi\\desktop\\new folder\\git\\blockchain_application_ds_fullstack\\badf-venv\\lib\\site-packages (from jupyter-client>=5.3.4->notebook) (2.8.2)\n",
      "Requirement already satisfied: decorator in c:\\users\\tobi\\desktop\\new folder\\git\\blockchain_application_ds_fullstack\\badf-venv\\lib\\site-packages (from ipython>=7.23.1->ipykernel->jupyter) (5.1.1)\n",
      "Requirement already satisfied: colorama; sys_platform == \"win32\" in c:\\users\\tobi\\desktop\\new folder\\git\\blockchain_application_ds_fullstack\\badf-venv\\lib\\site-packages (from ipython>=7.23.1->ipykernel->jupyter) (0.4.6)\n",
      "Requirement already satisfied: typing-extensions; python_version < \"3.10\" in c:\\users\\tobi\\desktop\\new folder\\git\\blockchain_application_ds_fullstack\\badf-venv\\lib\\site-packages (from ipython>=7.23.1->ipykernel->jupyter) (4.6.3)\n",
      "Requirement already satisfied: pickleshare in c:\\users\\tobi\\desktop\\new folder\\git\\blockchain_application_ds_fullstack\\badf-venv\\lib\\site-packages (from ipython>=7.23.1->ipykernel->jupyter) (0.7.5)\n",
      "Requirement already satisfied: stack-data in c:\\users\\tobi\\desktop\\new folder\\git\\blockchain_application_ds_fullstack\\badf-venv\\lib\\site-packages (from ipython>=7.23.1->ipykernel->jupyter) (0.6.2)\n",
      "Requirement already satisfied: jedi>=0.16 in c:\\users\\tobi\\desktop\\new folder\\git\\blockchain_application_ds_fullstack\\badf-venv\\lib\\site-packages (from ipython>=7.23.1->ipykernel->jupyter) (0.18.2)\n",
      "Requirement already satisfied: backcall in c:\\users\\tobi\\desktop\\new folder\\git\\blockchain_application_ds_fullstack\\badf-venv\\lib\\site-packages (from ipython>=7.23.1->ipykernel->jupyter) (0.2.0)\n",
      "Requirement already satisfied: wcwidth in c:\\users\\tobi\\desktop\\new folder\\git\\blockchain_application_ds_fullstack\\badf-venv\\lib\\site-packages (from prompt-toolkit>=3.0.30->jupyter-console->jupyter) (0.2.6)\n",
      "Requirement already satisfied: soupsieve>1.2 in c:\\users\\tobi\\desktop\\new folder\\git\\blockchain_application_ds_fullstack\\badf-venv\\lib\\site-packages (from beautifulsoup4->nbconvert->jupyter) (2.4.1)\n",
      "Requirement already satisfied: webencodings>=0.4 in c:\\users\\tobi\\desktop\\new folder\\git\\blockchain_application_ds_fullstack\\badf-venv\\lib\\site-packages (from tinycss2->nbconvert->jupyter) (0.5.1)\n",
      "Requirement already satisfied: zipp>=0.5 in c:\\users\\tobi\\desktop\\new folder\\git\\blockchain_application_ds_fullstack\\badf-venv\\lib\\site-packages (from importlib-metadata>=3.6; python_version < \"3.10\"->nbconvert->jupyter) (3.15.0)\n",
      "Requirement already satisfied: six>=1.9.0 in c:\\users\\tobi\\desktop\\new folder\\git\\blockchain_application_ds_fullstack\\badf-venv\\lib\\site-packages (from bleach!=5.0.0->nbconvert->jupyter) (1.16.0)\n",
      "Requirement already satisfied: pyrsistent!=0.17.0,!=0.17.1,!=0.17.2,>=0.14.0 in c:\\users\\tobi\\desktop\\new folder\\git\\blockchain_application_ds_fullstack\\badf-venv\\lib\\site-packages (from jsonschema>=2.6->nbformat->notebook) (0.19.3)\n",
      "Requirement already satisfied: attrs>=17.4.0 in c:\\users\\tobi\\desktop\\new folder\\git\\blockchain_application_ds_fullstack\\badf-venv\\lib\\site-packages (from jsonschema>=2.6->nbformat->notebook) (23.1.0)\n",
      "Requirement already satisfied: jupyter-events>=0.6.0 in c:\\users\\tobi\\desktop\\new folder\\git\\blockchain_application_ds_fullstack\\badf-venv\\lib\\site-packages (from jupyter-server>=1.8->nbclassic>=0.4.7->notebook) (0.6.3)\n",
      "Requirement already satisfied: anyio>=3.1.0 in c:\\users\\tobi\\desktop\\new folder\\git\\blockchain_application_ds_fullstack\\badf-venv\\lib\\site-packages (from jupyter-server>=1.8->nbclassic>=0.4.7->notebook) (3.7.0)\n",
      "Requirement already satisfied: websocket-client in c:\\users\\tobi\\desktop\\new folder\\git\\blockchain_application_ds_fullstack\\badf-venv\\lib\\site-packages (from jupyter-server>=1.8->nbclassic>=0.4.7->notebook) (1.6.0)\n",
      "Requirement already satisfied: jupyter-server-terminals in c:\\users\\tobi\\desktop\\new folder\\git\\blockchain_application_ds_fullstack\\badf-venv\\lib\\site-packages (from jupyter-server>=1.8->nbclassic>=0.4.7->notebook) (0.4.4)\n",
      "Requirement already satisfied: overrides in c:\\users\\tobi\\desktop\\new folder\\git\\blockchain_application_ds_fullstack\\badf-venv\\lib\\site-packages (from jupyter-server>=1.8->nbclassic>=0.4.7->notebook) (7.3.1)\n",
      "Requirement already satisfied: cffi>=1.0.1 in c:\\users\\tobi\\desktop\\new folder\\git\\blockchain_application_ds_fullstack\\badf-venv\\lib\\site-packages (from argon2-cffi-bindings->argon2-cffi->notebook) (1.15.1)\n",
      "Requirement already satisfied: executing>=1.2.0 in c:\\users\\tobi\\desktop\\new folder\\git\\blockchain_application_ds_fullstack\\badf-venv\\lib\\site-packages (from stack-data->ipython>=7.23.1->ipykernel->jupyter) (1.2.0)\n",
      "Requirement already satisfied: pure-eval in c:\\users\\tobi\\desktop\\new folder\\git\\blockchain_application_ds_fullstack\\badf-venv\\lib\\site-packages (from stack-data->ipython>=7.23.1->ipykernel->jupyter) (0.2.2)\n",
      "Requirement already satisfied: asttokens>=2.1.0 in c:\\users\\tobi\\desktop\\new folder\\git\\blockchain_application_ds_fullstack\\badf-venv\\lib\\site-packages (from stack-data->ipython>=7.23.1->ipykernel->jupyter) (2.2.1)\n",
      "Requirement already satisfied: parso<0.9.0,>=0.8.0 in c:\\users\\tobi\\desktop\\new folder\\git\\blockchain_application_ds_fullstack\\badf-venv\\lib\\site-packages (from jedi>=0.16->ipython>=7.23.1->ipykernel->jupyter) (0.8.3)\n",
      "Requirement already satisfied: pyyaml>=5.3 in c:\\users\\tobi\\desktop\\new folder\\git\\blockchain_application_ds_fullstack\\badf-venv\\lib\\site-packages (from jupyter-events>=0.6.0->jupyter-server>=1.8->nbclassic>=0.4.7->notebook) (6.0)\n",
      "Requirement already satisfied: python-json-logger>=2.0.4 in c:\\users\\tobi\\desktop\\new folder\\git\\blockchain_application_ds_fullstack\\badf-venv\\lib\\site-packages (from jupyter-events>=0.6.0->jupyter-server>=1.8->nbclassic>=0.4.7->notebook) (2.0.7)\n",
      "Requirement already satisfied: rfc3986-validator>=0.1.1 in c:\\users\\tobi\\desktop\\new folder\\git\\blockchain_application_ds_fullstack\\badf-venv\\lib\\site-packages (from jupyter-events>=0.6.0->jupyter-server>=1.8->nbclassic>=0.4.7->notebook) (0.1.1)\n",
      "Requirement already satisfied: rfc3339-validator in c:\\users\\tobi\\desktop\\new folder\\git\\blockchain_application_ds_fullstack\\badf-venv\\lib\\site-packages (from jupyter-events>=0.6.0->jupyter-server>=1.8->nbclassic>=0.4.7->notebook) (0.1.4)\n",
      "Requirement already satisfied: sniffio>=1.1 in c:\\users\\tobi\\desktop\\new folder\\git\\blockchain_application_ds_fullstack\\badf-venv\\lib\\site-packages (from anyio>=3.1.0->jupyter-server>=1.8->nbclassic>=0.4.7->notebook) (1.3.0)\n",
      "Requirement already satisfied: exceptiongroup; python_version < \"3.11\" in c:\\users\\tobi\\desktop\\new folder\\git\\blockchain_application_ds_fullstack\\badf-venv\\lib\\site-packages (from anyio>=3.1.0->jupyter-server>=1.8->nbclassic>=0.4.7->notebook) (1.1.1)\n",
      "Requirement already satisfied: idna>=2.8 in c:\\users\\tobi\\desktop\\new folder\\git\\blockchain_application_ds_fullstack\\badf-venv\\lib\\site-packages (from anyio>=3.1.0->jupyter-server>=1.8->nbclassic>=0.4.7->notebook) (3.4)\n",
      "Requirement already satisfied: pycparser in c:\\users\\tobi\\desktop\\new folder\\git\\blockchain_application_ds_fullstack\\badf-venv\\lib\\site-packages (from cffi>=1.0.1->argon2-cffi-bindings->argon2-cffi->notebook) (2.21)\n"
     ]
    },
    {
     "name": "stderr",
     "output_type": "stream",
     "text": [
      "WARNING: You are using pip version 20.1.1; however, version 23.1.2 is available.\n",
      "You should consider upgrading via the 'c:\\users\\tobi\\desktop\\new folder\\git\\blockchain_application_ds_fullstack\\badf-venv\\scripts\\python.exe -m pip install --upgrade pip' command.\n"
     ]
    },
    {
     "name": "stdout",
     "output_type": "stream",
     "text": [
      "Collecting python-dotenv\n",
      "  Downloading python_dotenv-1.0.0-py3-none-any.whl (19 kB)\n",
      "Installing collected packages: python-dotenv\n",
      "Successfully installed python-dotenv-1.0.0\n"
     ]
    },
    {
     "name": "stderr",
     "output_type": "stream",
     "text": [
      "WARNING: You are using pip version 20.1.1; however, version 23.1.2 is available.\n",
      "You should consider upgrading via the 'c:\\users\\tobi\\desktop\\new folder\\git\\blockchain_application_ds_fullstack\\badf-venv\\scripts\\python.exe -m pip install --upgrade pip' command.\n"
     ]
    }
   ],
   "source": [
    "!pip install requests\n",
    "!pip install pandas\n",
    "!pip install pandas\n",
    "!pip install jupyter notebook\n",
    "!pip install python-dotenv\n"
   ]
  },
  {
   "cell_type": "code",
   "execution_count": 2,
   "id": "7a814f57",
   "metadata": {},
   "outputs": [],
   "source": [
    "from requests import get, post\n",
    "import pandas as pd\n",
    "import os\n",
    "from dotenv import load_dotenv\n",
    "\n",
    "# Load environment variables from .env file\n",
    "load_dotenv()\n",
    "\n",
    "API_KEY = os.getenv(\"API_KEY\")"
   ]
  },
  {
   "cell_type": "code",
   "execution_count": 3,
   "id": "0fbf094d",
   "metadata": {},
   "outputs": [],
   "source": [
    "# API_KEY = \"p1MKamMRibckuvcscKaSSvYJzV3zX3on\"\n",
    "HEADER = {\"x-dune-api-key\" : API_KEY}"
   ]
  },
  {
   "cell_type": "code",
   "execution_count": 4,
   "id": "282d5909",
   "metadata": {},
   "outputs": [],
   "source": [
    "BASE_URL = \"https://api.dune.com/api/v1/\"\n",
    "\n",
    "def make_api_url(module, action, ID):\n",
    "    \"\"\"\n",
    "    We shall use this function to generate a URL to call the API.\n",
    "    \"\"\"\n",
    "\n",
    "    url = BASE_URL + module + \"/\" + ID + \"/\" + action\n",
    "\n",
    "    return url\n",
    "\n",
    "\n",
    "\n",
    "def execute_query(query_id, engine=\"medium\"):\n",
    "    \"\"\"\n",
    "    Takes in the query ID and engine size.\n",
    "    Specifying the engine size will change how quickly your query runs. \n",
    "    The default is \"medium\" which spends 10 credits, while \"large\" spends 20 credits.\n",
    "    Calls the API to execute the query.\n",
    "    Returns the execution ID of the instance which is executing the query.\n",
    "    \"\"\"\n",
    "\n",
    "    url = make_api_url(\"query\", \"execute\", query_id)\n",
    "    params = {\n",
    "        \"performance\": engine,\n",
    "    }\n",
    "    response = post(url, headers=HEADER, params=params)\n",
    "    execution_id = response.json()['execution_id']\n",
    "\n",
    "    return execution_id\n",
    "\n",
    "\n",
    "def get_query_status(execution_id):\n",
    "    \"\"\"\n",
    "    Takes in an execution ID.\n",
    "    Fetches the status of query execution using the API\n",
    "    Returns the status response object\n",
    "    \"\"\"\n",
    "\n",
    "    url = make_api_url(\"execution\", \"status\", execution_id)\n",
    "    response = get(url, headers=HEADER)\n",
    "\n",
    "    return response\n",
    "\n",
    "\n",
    "def get_query_results(execution_id):\n",
    "    \"\"\"\n",
    "    Takes in an execution ID.\n",
    "    Fetches the results returned from the query using the API\n",
    "    Returns the results response object\n",
    "    \"\"\"\n",
    "\n",
    "    url = make_api_url(\"execution\", \"results\", execution_id)\n",
    "    response = get(url, headers=HEADER)\n",
    "\n",
    "    return response\n",
    "\n",
    "\n",
    "def cancel_query_execution(execution_id):\n",
    "    \"\"\"\n",
    "    Takes in an execution ID.\n",
    "    Cancels the ongoing execution of the query.\n",
    "    Returns the response object.\n",
    "    \"\"\"\n",
    "\n",
    "    url = make_api_url(\"execution\", \"cancel\", execution_id)\n",
    "    response = get(url, headers=HEADER)\n",
    "\n",
    "    return response\n"
   ]
  },
  {
   "cell_type": "code",
   "execution_count": 5,
   "id": "315a488b",
   "metadata": {},
   "outputs": [
    {
     "data": {
      "text/plain": [
       "'01H37ZNSTPW5HFH9VG21K7RB16'"
      ]
     },
     "execution_count": 5,
     "metadata": {},
     "output_type": "execute_result"
    }
   ],
   "source": [
    "execution_id = execute_query(\"2346584\",\"large\")\n",
    "execution_id"
   ]
  },
  {
   "cell_type": "code",
   "execution_count": 6,
   "id": "448d567d",
   "metadata": {},
   "outputs": [
    {
     "data": {
      "text/plain": [
       "<Response [200]>"
      ]
     },
     "execution_count": 6,
     "metadata": {},
     "output_type": "execute_result"
    }
   ],
   "source": [
    "response = get_query_status(execution_id)\n",
    "response"
   ]
  },
  {
   "cell_type": "code",
   "execution_count": 10,
   "id": "d42be484",
   "metadata": {},
   "outputs": [],
   "source": [
    "response = get_query_results(execution_id)"
   ]
  },
  {
   "cell_type": "code",
   "execution_count": 9,
   "id": "a7614129",
   "metadata": {},
   "outputs": [
    {
     "data": {
      "text/plain": [
       "<Response [200]>"
      ]
     },
     "execution_count": 9,
     "metadata": {},
     "output_type": "execute_result"
    }
   ],
   "source": [
    "response"
   ]
  },
  {
   "cell_type": "code",
   "execution_count": 11,
   "id": "4072d045",
   "metadata": {},
   "outputs": [
    {
     "data": {
      "text/html": [
       "<div>\n",
       "<style scoped>\n",
       "    .dataframe tbody tr th:only-of-type {\n",
       "        vertical-align: middle;\n",
       "    }\n",
       "\n",
       "    .dataframe tbody tr th {\n",
       "        vertical-align: top;\n",
       "    }\n",
       "\n",
       "    .dataframe thead th {\n",
       "        text-align: right;\n",
       "    }\n",
       "</style>\n",
       "<table border=\"1\" class=\"dataframe\">\n",
       "  <thead>\n",
       "    <tr style=\"text-align: right;\">\n",
       "      <th></th>\n",
       "      <th>Buyers</th>\n",
       "      <th>Sellers</th>\n",
       "      <th>Total Volume</th>\n",
       "      <th>Transactions</th>\n",
       "      <th>collection</th>\n",
       "    </tr>\n",
       "  </thead>\n",
       "  <tbody>\n",
       "    <tr>\n",
       "      <th>0</th>\n",
       "      <td>5210</td>\n",
       "      <td>5608</td>\n",
       "      <td>1.230546e+10</td>\n",
       "      <td>31858</td>\n",
       "      <td>Terraforms</td>\n",
       "    </tr>\n",
       "    <tr>\n",
       "      <th>1</th>\n",
       "      <td>13427</td>\n",
       "      <td>12065</td>\n",
       "      <td>9.967581e+09</td>\n",
       "      <td>51081</td>\n",
       "      <td>Meebits</td>\n",
       "    </tr>\n",
       "    <tr>\n",
       "      <th>2</th>\n",
       "      <td>13110</td>\n",
       "      <td>10864</td>\n",
       "      <td>3.188083e+09</td>\n",
       "      <td>37861</td>\n",
       "      <td>Bored Ape Yacht Club</td>\n",
       "    </tr>\n",
       "    <tr>\n",
       "      <th>3</th>\n",
       "      <td>5594</td>\n",
       "      <td>4060</td>\n",
       "      <td>2.713611e+09</td>\n",
       "      <td>13496</td>\n",
       "      <td>dotdotdot</td>\n",
       "    </tr>\n",
       "    <tr>\n",
       "      <th>4</th>\n",
       "      <td>26171</td>\n",
       "      <td>23452</td>\n",
       "      <td>2.388456e+09</td>\n",
       "      <td>74919</td>\n",
       "      <td>MutantApeYachtClub</td>\n",
       "    </tr>\n",
       "    <tr>\n",
       "      <th>5</th>\n",
       "      <td>5902</td>\n",
       "      <td>6603</td>\n",
       "      <td>1.765643e+09</td>\n",
       "      <td>18545</td>\n",
       "      <td>Dreadfulz</td>\n",
       "    </tr>\n",
       "    <tr>\n",
       "      <th>6</th>\n",
       "      <td>38770</td>\n",
       "      <td>37972</td>\n",
       "      <td>1.525538e+09</td>\n",
       "      <td>201595</td>\n",
       "      <td>Otherdeed for Otherside</td>\n",
       "    </tr>\n",
       "    <tr>\n",
       "      <th>7</th>\n",
       "      <td>3101</td>\n",
       "      <td>1983</td>\n",
       "      <td>1.498302e+09</td>\n",
       "      <td>8714</td>\n",
       "      <td>More Loot</td>\n",
       "    </tr>\n",
       "    <tr>\n",
       "      <th>8</th>\n",
       "      <td>15908</td>\n",
       "      <td>16148</td>\n",
       "      <td>1.352112e+09</td>\n",
       "      <td>53136</td>\n",
       "      <td>Azuki</td>\n",
       "    </tr>\n",
       "    <tr>\n",
       "      <th>9</th>\n",
       "      <td>37292</td>\n",
       "      <td>37627</td>\n",
       "      <td>1.215234e+09</td>\n",
       "      <td>214610</td>\n",
       "      <td>Art Blocks Curated</td>\n",
       "    </tr>\n",
       "    <tr>\n",
       "      <th>10</th>\n",
       "      <td>4817</td>\n",
       "      <td>3968</td>\n",
       "      <td>1.008475e+09</td>\n",
       "      <td>15163</td>\n",
       "      <td>Loot</td>\n",
       "    </tr>\n",
       "  </tbody>\n",
       "</table>\n",
       "</div>"
      ],
      "text/plain": [
       "    Buyers  Sellers  Total Volume  Transactions               collection\n",
       "0     5210     5608  1.230546e+10         31858               Terraforms\n",
       "1    13427    12065  9.967581e+09         51081                  Meebits\n",
       "2    13110    10864  3.188083e+09         37861     Bored Ape Yacht Club\n",
       "3     5594     4060  2.713611e+09         13496                dotdotdot\n",
       "4    26171    23452  2.388456e+09         74919       MutantApeYachtClub\n",
       "5     5902     6603  1.765643e+09         18545                Dreadfulz\n",
       "6    38770    37972  1.525538e+09        201595  Otherdeed for Otherside\n",
       "7     3101     1983  1.498302e+09          8714                More Loot\n",
       "8    15908    16148  1.352112e+09         53136                    Azuki\n",
       "9    37292    37627  1.215234e+09        214610       Art Blocks Curated\n",
       "10    4817     3968  1.008475e+09         15163                     Loot"
      ]
     },
     "execution_count": 11,
     "metadata": {},
     "output_type": "execute_result"
    }
   ],
   "source": [
    "data = pd.DataFrame(response.json()['result']['rows'])\n",
    "data"
   ]
  },
  {
   "cell_type": "code",
   "execution_count": null,
   "id": "06f5885d",
   "metadata": {},
   "outputs": [],
   "source": []
  }
 ],
 "metadata": {
  "kernelspec": {
   "display_name": "Python 3 (ipykernel)",
   "language": "python",
   "name": "python3"
  },
  "language_info": {
   "codemirror_mode": {
    "name": "ipython",
    "version": 3
   },
   "file_extension": ".py",
   "mimetype": "text/x-python",
   "name": "python",
   "nbconvert_exporter": "python",
   "pygments_lexer": "ipython3",
   "version": "3.9.12"
  }
 },
 "nbformat": 4,
 "nbformat_minor": 5
}
